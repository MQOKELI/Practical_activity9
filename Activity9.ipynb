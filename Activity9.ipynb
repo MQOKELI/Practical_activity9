{
 "cells": [
  {
   "cell_type": "markdown",
   "id": "a1240fc1-cd4c-47bb-a1b2-445886461ad7",
   "metadata": {},
   "source": [
    "Question number one where we are using a buble sort and insertion sort"
   ]
  },
  {
   "cell_type": "code",
   "execution_count": 32,
   "id": "5fbc31c5-dc01-409b-96c7-2c48938a76e9",
   "metadata": {},
   "outputs": [
    {
     "name": "stdout",
     "output_type": "stream",
     "text": [
      "The list sorted with bubble sort is  [3, 7, 10, 11, 13, 26, 43]\n",
      "The list sorted with insertion sort [3, 7, 10, 11, 13, 26, 43]\n",
      "13  which is the target item in the list is found at index  4\n"
     ]
    },
    {
     "data": {
      "text/plain": [
       "' Linear search algorithm is an algorithm that used for searching an item in list or \\nin a dataset where this algorithm start at the beginning and iterate through in each element \\nand compare each element with whata user is looking for if it matches it stops but if not it continues up until it get it '"
      ]
     },
     "execution_count": 32,
     "metadata": {},
     "output_type": "execute_result"
    }
   ],
   "source": [
    "# Write a python program sorting the elements using bubble sort and insertion sort algorithms\n",
    "list=[10, 7, 26, 43, 3, 13, 11]\n",
    "\n",
    "for i in range(len(list)-1,0,-1):\n",
    "    for j in range(i):\n",
    "        if list[j]>list[j+1]:\n",
    "            temp=list[j]\n",
    "            list[j]=list[j+1]\n",
    "            list[j+1]=temp\n",
    "print(\"The list sorted with bubble sort is \",list)  \n",
    "#Insertion sort algorithm sorting integers in ascending order \n",
    "for i in range(1, len(list)):\n",
    "    current_value = list[i]\n",
    "    position = i\n",
    "\n",
    "    while position < 0 and list[position - 1] < current_value:\n",
    "        list[position] = list[position - 1]\n",
    "        position -= 1\n",
    "\n",
    "    list[position] = current_value\n",
    "print('The list sorted with insertion sort',list)\n",
    "\n",
    "# Write a python program that will search for a specific element using binary search.\n",
    "def binary_Search(list, target_item):\n",
    "    start_index = 0\n",
    "    end_index = len(list) - 1\n",
    "\n",
    "    while start_index <= end_index:\n",
    "        mid = start_index + (end_index - start_index) // 2\n",
    "        mid_value = list[mid]\n",
    "        if mid_value == target_item:\n",
    "            return mid\n",
    "        elif target_item < mid_value:\n",
    "            end_index = mid - 1\n",
    "        else:\n",
    "            start_index = mid + 1\n",
    "\n",
    "    return None\n",
    "\n",
    "\n",
    "my_list = [10, 7, 26, 43, 3, 13, 11]\n",
    "my_list.sort()\n",
    "target_item = 13\n",
    "\n",
    "result = binary_Search(my_list, target_item)\n",
    "print(target_item,\" which is the target item in the list is found at index \",result)\n",
    "\n",
    "# Explain the algorithm for linear search\n",
    "\"\"\" Linear search algorithm is an algorithm that used for searching an item in list or \n",
    "in a dataset where this algorithm start at the beginning and iterate through in each element \n",
    "and compare each element with whata user is looking for if it matches it stops but if not it continues up until it get it \"\"\""
   ]
  },
  {
   "cell_type": "markdown",
   "id": "c8abf185-6204-43e0-9c26-c370f408d28a",
   "metadata": {},
   "source": [
    " Using a heap sort algorithm, show each iteration to sort the elements in ascending order\n",
    "\n",
    " Our list is like this one  [10, 7, 26, 43, 3, 13, 11]\n",
    " The last parent is 26 and its childs is 13 and 11 and we check that which one is bigger that another 13 is bigger and then we swap 26 and 13\n",
    "\n",
    " new list is [10,7,13,43,3,26,11] :NB since 26 is no longer a parent we move to the next parent\n",
    " 7 is the parent of 43 and 3 and when we check our elements we check that 43 is bigger than 3 then we swap 7 and 43\n",
    " new list is [10,43,13,7,3,26,11] :NB Seven is no longer a parent we move to the next parent\n",
    " 10 is the parent of 43 and 13 and 43 is bigger than 13 we swap the parent with the biggest child\n",
    " new list [43,10,13,7,3,26,11] NB: 10 is still a parent the the elements are not yet sorted, so 10is the parent of 7 and 3 and 7 is bigger we further swap the two\n",
    " new list [43,7,13,10,3,26,11] NB:10 is no longer a parent and 43 is the largest of them all then we have to swap 43 with unsorted last element\n",
    " new list[11,7,13,10,3,26,43] NB:Then now elements are not yet sorted let's start to the first element and try to sort again then 11 is the parent of 7 and 13 then 13 is the largest child of 11 in the current list, then let's swap\n",
    " new list[13,7,11,10,3,26,43] NB: Then 11 is still the parent of 43 and 26 and we do not swap 43 cause is sorted and we move to the next parrent\n",
    " 7 is the second parent of 10 and 3 and 10 is the bigger child we swap 7 with 10\n",
    " new list[13,10,11,7,3,26,43] NB:then we can proceed to the next parent cause 7 is no longer a parent\n",
    " 13 is the largest from the unsorted elements so we will swap 13 and the last unsorted element\n",
    " new list[3,10,11,7,13,26,43] NB:Then we look at first parent to the remaining unsorted elements, then 3 is the parent of 10 and 11 then 11 is bigger child we swap 3 and 11\n",
    " new list[11,10,3,7,13,26,43] NB:To the unsorted elements 11 is the biggest element so we will swap it the last unsorted element\n",
    " new list[7,10,3,11,13,26,43] NB: Now lets look the first parent on the unsorted elements, then 7 is the parent of 10 and 3 the 10 is bigger than 3 we swap 7 and 10\n",
    " new list[10,7,3,11,13,26,43]:NB 7 is still a parent of 11 and 13 but those elements are sorted so we do not swap on ther other hand 10 is the largest element in an unsorted elements the we swap the last uns\n",
    " \n",
    " "
   ]
  }
 ],
 "metadata": {
  "kernelspec": {
   "display_name": "Python 3 (ipykernel)",
   "language": "python",
   "name": "python3"
  },
  "language_info": {
   "codemirror_mode": {
    "name": "ipython",
    "version": 3
   },
   "file_extension": ".py",
   "mimetype": "text/x-python",
   "name": "python",
   "nbconvert_exporter": "python",
   "pygments_lexer": "ipython3",
   "version": "3.12.2"
  }
 },
 "nbformat": 4,
 "nbformat_minor": 5
}
